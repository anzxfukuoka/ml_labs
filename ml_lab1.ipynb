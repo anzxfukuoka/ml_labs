{
  "nbformat": 4,
  "nbformat_minor": 0,
  "metadata": {
    "colab": {
      "name": "ml_lab1.ipynb",
      "provenance": [],
      "collapsed_sections": []
    },
    "kernelspec": {
      "name": "python3",
      "display_name": "Python 3"
    },
    "language_info": {
      "name": "python"
    }
  },
  "cells": [
    {
      "cell_type": "code",
      "execution_count": null,
      "metadata": {
        "id": "69eA3kA9W-NL"
      },
      "outputs": [],
      "source": [
        "import numpy as np\n",
        "import pandas as pd\n",
        "import matplotlib.pyplot as plt"
      ]
    },
    {
      "cell_type": "code",
      "source": [
        "# загрузка данных\n",
        "\n",
        "test_data = pd.read_csv(\"https://raw.githubusercontent.com/Neronuser/iasa-kpi-ml-course/main/labs/lab_1_test.csv\")\n",
        "train_data = pd.read_csv(\"https://raw.githubusercontent.com/Neronuser/iasa-kpi-ml-course/main/labs/lab_1_train.csv\")"
      ],
      "metadata": {
        "id": "xQ97SQyb7LlV"
      },
      "execution_count": null,
      "outputs": []
    },
    {
      "cell_type": "code",
      "source": [
        "# визуализация данных из train_data\n",
        "train_data.plot(\"x\", \"y\",  marker='*', kind=\"scatter\")"
      ],
      "metadata": {
        "colab": {
          "base_uri": "https://localhost:8080/",
          "height": 296
        },
        "id": "VVIdTOLx8ed-",
        "outputId": "44accfe7-4d2d-46b7-fb08-77f5ee4aed69"
      },
      "execution_count": null,
      "outputs": [
        {
          "output_type": "execute_result",
          "data": {
            "text/plain": [
              "<matplotlib.axes._subplots.AxesSubplot at 0x7f40ad104bd0>"
            ]
          },
          "metadata": {},
          "execution_count": 281
        },
        {
          "output_type": "display_data",
          "data": {
            "text/plain": [
              "<Figure size 432x288 with 1 Axes>"
            ],
            "image/png": "[encoded data removed]"
          },
          "metadata": {
            "needs_background": "light"
          }
        }
      ]
    },
    {
      "cell_type": "code",
      "source": [
        "# параметры обучения\n",
        "epochs_count = 6000\n",
        "lerning_rate = 0.01"
      ],
      "metadata": {
        "id": "Fs8fbXNw8Ro3"
      },
      "execution_count": null,
      "outputs": []
    },
    {
      "cell_type": "code",
      "source": [
        "# разделение данных на x, y\n",
        "train_data_x = train_data[\"x\"].to_numpy()\n",
        "train_data_y = train_data[\"y\"].to_numpy()\n",
        "\n",
        "test_data_x = test_data[\"x\"].to_numpy()\n",
        "test_data_y = test_data[\"y\"].to_numpy()"
      ],
      "metadata": {
        "id": "nfjcvaZ9_nfH"
      },
      "execution_count": null,
      "outputs": []
    },
    {
      "cell_type": "code",
      "source": [
        "# предгенерация весов\n",
        "beta_0 = np.random.rand(1)\n",
        "beta_x = np.random.rand(1)\n",
        "\n",
        "results = []\n",
        "\n",
        "# train\n",
        "for epoch in range(epochs_count):\n",
        "  prediction = beta_0 + (beta_x * train_data_x)\n",
        "\n",
        "  sqrt_error = np.power(train_data_y - prediction, 2).mean() / 2\n",
        "  \n",
        "  grad_0 = (-2 * (train_data_y - prediction)).mean()\n",
        "  grad_x = (-2 * (train_data_y - prediction) * train_data_x).mean()\n",
        "\n",
        "  results.append([sqrt_error, beta_0, beta_x])\n",
        "\n",
        "  beta_0 = beta_0 - lerning_rate * grad_0\n",
        "  beta_x = beta_x - lerning_rate * grad_x\n",
        "\n",
        "results = pd.DataFrame(results, columns=[\"err\", \"beta_0\", \"beta_x\"])\n",
        "\n",
        "best = results.iloc[results[\"err\"].idxmin(),:]\n",
        "\n",
        "print(\"лучший результат:\\n\", best)\n",
        "\n",
        "plt.plot(range(epochs_count), results[\"err\"], label=\"изменение ошибки и от эпохи\")\n",
        "plt.legend()"
      ],
      "metadata": {
        "colab": {
          "base_uri": "https://localhost:8080/",
          "height": 369
        },
        "id": "e6UBu7LZAOk6",
        "outputId": "c3902e5e-6687-490f-cbb2-d01b7e1816e8"
      },
      "execution_count": null,
      "outputs": [
        {
          "output_type": "stream",
          "name": "stdout",
          "text": [
            "лучший результат:\n",
            " err                   0.036866\n",
            "beta_0    [19.913698675955235]\n",
            "beta_x     [2.129568399243081]\n",
            "Name: 5999, dtype: object\n"
          ]
        },
        {
          "output_type": "execute_result",
          "data": {
            "text/plain": [
              "<matplotlib.legend.Legend at 0x7f40ace1a210>"
            ]
          },
          "metadata": {},
          "execution_count": 284
        },
        {
          "output_type": "display_data",
          "data": {
            "text/plain": [
              "<Figure size 432x288 with 1 Axes>"
            ],
            "image/png": "[encoded data removed]"
          },
          "metadata": {
            "needs_background": "light"
          }
        }
      ]
    },
    {
      "cell_type": "code",
      "source": [
        "#test\n",
        "beta_0 = float(best[\"beta_0\"])\n",
        "beta_x = float(best[\"beta_x\"])\n",
        "\n",
        "def predict(x):\n",
        "  return beta_0 + beta_x * x \n",
        "\n",
        "min_x = min(test_data[\"x\"].min(), train_data[\"x\"].min())\n",
        "max_x = max(test_data[\"x\"].max(), train_data[\"x\"].max())\n",
        "\n",
        "x = np.linspace(min_x, max_x, 100)\n",
        "y = np.vectorize(predict)(x)\n",
        "\n",
        "fig, axs = plt.subplots(1)\n",
        "\n",
        "axs.plot(x, y, label=\"predict\")\n",
        "axs.scatter(test_data[\"x\"], test_data[\"y\"], marker='*', label=\"test\")\n",
        "axs.scatter(train_data[\"x\"], train_data[\"y\"], marker='*', label=\"train\")\n",
        "\n",
        "axs.legend()\n",
        "axs.grid()"
      ],
      "metadata": {
        "colab": {
          "base_uri": "https://localhost:8080/",
          "height": 265
        },
        "id": "KYV5vQR6PLOn",
        "outputId": "3b18716b-7bee-4928-8149-dfc396ee6ff8"
      },
      "execution_count": null,
      "outputs": [
        {
          "output_type": "display_data",
          "data": {
            "text/plain": [
              "<Figure size 432x288 with 1 Axes>"
            ],
            "image/png": "[encoded data removed]"
          },
          "metadata": {
            "needs_background": "light"
          }
        }
      ]
    },
    {
      "cell_type": "markdown",
      "source": [
        ""
      ],
      "metadata": {
        "id": "UfRVp5Mc_nSo"
      }
    }
  ]
}